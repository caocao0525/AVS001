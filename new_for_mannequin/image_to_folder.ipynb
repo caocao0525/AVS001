{
 "cells": [
  {
   "cell_type": "code",
   "execution_count": 56,
   "id": "ad76214d",
   "metadata": {},
   "outputs": [],
   "source": [
    "from PIL import Image\n",
    "from IPython.display import display\n",
    "import math\n",
    "import cv2\n",
    "import numpy as np\n",
    "import glob\n",
    "from tqdm import tqdm\n",
    "from tqdm.notebook import tqdm_notebook\n",
    "import time"
   ]
  },
  {
   "cell_type": "code",
   "execution_count": 2,
   "id": "f5501b99",
   "metadata": {},
   "outputs": [],
   "source": [
    "im_test = cv2.imread(\"../../mannequin_original/dataset/trainset/img00001-l1.jpg\")"
   ]
  },
  {
   "cell_type": "code",
   "execution_count": 6,
   "id": "fff4016d",
   "metadata": {},
   "outputs": [
    {
     "data": {
      "text/plain": [
       "255"
      ]
     },
     "execution_count": 6,
     "metadata": {},
     "output_type": "execute_result"
    }
   ],
   "source": [
    "im_name = \"test image\"\n",
    "cv2.imshow(im_name, im_test)\n",
    "cv2.waitKey(0)"
   ]
  },
  {
   "cell_type": "code",
   "execution_count": 7,
   "id": "2468e7b2",
   "metadata": {},
   "outputs": [],
   "source": [
    "cv2.destroyAllWindows()"
   ]
  },
  {
   "cell_type": "code",
   "execution_count": 23,
   "id": "2ea915a5",
   "metadata": {},
   "outputs": [
    {
     "name": "stdout",
     "output_type": "stream",
     "text": [
      "../../mannequin_original/dataset/trainset/img04054-l6.jpg\n",
      "<class 'str'>\n",
      "belongs to n5\n",
      "2\n"
     ]
    }
   ],
   "source": [
    "images = glob.glob(\"../../mannequin_original/dataset/trainset/*.jpg\")\n",
    "count=1\n",
    "\n",
    "for image in images:\n",
    "    print(image)\n",
    "    print(type(image))\n",
    "    if 'l6' in image:\n",
    "        with open(image, 'rb') as file:\n",
    "            img = Image.open(file)\n",
    "            print(\"belongs to n5\")\n",
    "            path_str=\"../../mannequin_01/train/n0/\" \n",
    "            img.save(f'{path_str}/n5_{count}.jpg')\n",
    "    count=count+1\n",
    "    break\n",
    "print(count)\n"
   ]
  },
  {
   "cell_type": "code",
   "execution_count": 53,
   "id": "0bc03ac4",
   "metadata": {},
   "outputs": [],
   "source": [
    "def train_img_dist(img_file_path, trainset_path, class_num):\n",
    "    images = glob.glob(img_file_path)\n",
    "    count=1\n",
    "    class_name='n'+str(class_num)\n",
    "    tag='l'+str(class_num+1)\n",
    "    for image in images:        \n",
    "        if tag in image:\n",
    "            with open(image, 'rb') as file:\n",
    "                img = Image.open(file)\n",
    "                img.save(f'{trainset_path}/{class_name}/{class_name}_{tag}_{count}.jpg')\n",
    "            count+=1\n",
    "    return print(f'{class_name} was successfully added: total {count-1} images')"
   ]
  },
  {
   "cell_type": "code",
   "execution_count": 65,
   "id": "0d97d08f",
   "metadata": {},
   "outputs": [
    {
     "data": {
      "application/vnd.jupyter.widget-view+json": {
       "model_id": "43e2080f08074d60bbd90389b00754d5",
       "version_major": 2,
       "version_minor": 0
      },
      "text/plain": [
       "trainset:   0%|          | 0/8 [00:00<?, ?it/s]"
      ]
     },
     "metadata": {},
     "output_type": "display_data"
    },
    {
     "name": "stdout",
     "output_type": "stream",
     "text": [
      "n0 was successfully added: total 3600 images\n",
      "n1 was successfully added: total 3600 images\n",
      "n2 was successfully added: total 3600 images\n",
      "n3 was successfully added: total 3600 images\n",
      "n4 was successfully added: total 3600 images\n",
      "n5 was successfully added: total 3600 images\n",
      "n6 was successfully added: total 3600 images\n",
      "n7 was successfully added: total 3600 images\n"
     ]
    }
   ],
   "source": [
    "img_file_path=\"../../mannequin_original/dataset/trainset/*.jpg\"\n",
    "trainset_path=\"../../mannequin_01/train/\"\n",
    "\n",
    "for class_num in tqdm_notebook(range(8), desc='trainset'):\n",
    "     train_img_dist(img_file_path, trainset_path, class_num)"
   ]
  },
  {
   "cell_type": "code",
   "execution_count": 66,
   "id": "a6d81a32",
   "metadata": {},
   "outputs": [
    {
     "data": {
      "application/vnd.jupyter.widget-view+json": {
       "model_id": "2a23939bee074d57b263fab341bf6f7c",
       "version_major": 2,
       "version_minor": 0
      },
      "text/plain": [
       "testset:   0%|          | 0/8 [00:00<?, ?it/s]"
      ]
     },
     "metadata": {},
     "output_type": "display_data"
    },
    {
     "name": "stdout",
     "output_type": "stream",
     "text": [
      "n0 was successfully added: total 900 images\n",
      "n1 was successfully added: total 900 images\n",
      "n2 was successfully added: total 900 images\n",
      "n3 was successfully added: total 900 images\n",
      "n4 was successfully added: total 900 images\n",
      "n5 was successfully added: total 900 images\n",
      "n6 was successfully added: total 900 images\n",
      "n7 was successfully added: total 900 images\n"
     ]
    }
   ],
   "source": [
    "img_file_path=\"../../mannequin_original/dataset/testset/*.jpg\"\n",
    "trainset_path=\"../../mannequin_01/val/\"\n",
    "\n",
    "for class_num in tqdm_notebook(range(8), desc='testset'):\n",
    "     train_img_dist(img_file_path, trainset_path, class_num)"
   ]
  },
  {
   "cell_type": "code",
   "execution_count": null,
   "id": "806cab82",
   "metadata": {},
   "outputs": [],
   "source": []
  },
  {
   "cell_type": "code",
   "execution_count": null,
   "id": "c6523529",
   "metadata": {},
   "outputs": [],
   "source": []
  },
  {
   "cell_type": "code",
   "execution_count": null,
   "id": "2d55c1b7",
   "metadata": {},
   "outputs": [],
   "source": []
  },
  {
   "cell_type": "code",
   "execution_count": null,
   "id": "8dd8a423",
   "metadata": {},
   "outputs": [],
   "source": []
  },
  {
   "cell_type": "code",
   "execution_count": null,
   "id": "c11565e7",
   "metadata": {},
   "outputs": [],
   "source": []
  },
  {
   "cell_type": "code",
   "execution_count": null,
   "id": "12c88f91",
   "metadata": {},
   "outputs": [],
   "source": []
  }
 ],
 "metadata": {
  "kernelspec": {
   "display_name": "Python 3",
   "language": "python",
   "name": "python3"
  },
  "language_info": {
   "codemirror_mode": {
    "name": "ipython",
    "version": 3
   },
   "file_extension": ".py",
   "mimetype": "text/x-python",
   "name": "python",
   "nbconvert_exporter": "python",
   "pygments_lexer": "ipython3",
   "version": "3.6.9"
  }
 },
 "nbformat": 4,
 "nbformat_minor": 5
}
