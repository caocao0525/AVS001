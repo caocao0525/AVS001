{
 "cells": [
  {
   "cell_type": "code",
   "execution_count": 13,
   "metadata": {},
   "outputs": [],
   "source": [
    "import torch\n",
    "import torchvision\n",
    "import torch.nn as nn\n",
    "import torch.optim as optim\n",
    "import torch.nn.functional as F\n",
    "import torchvision.transforms as transforms\n",
    "%matplotlib inline\n",
    "import numpy as np\n",
    "import os\n",
    "from matplotlib import pyplot as plt"
   ]
  },
  {
   "cell_type": "code",
   "execution_count": 26,
   "metadata": {},
   "outputs": [],
   "source": [
    "data_transforms = {\n",
    "    'train':transforms.Compose([\n",
    "        transforms.ToTensor(),\n",
    "        transforms.Normalize([0.5, 0.5, 0.5],[0.5, 0.5, 0.5]),\n",
    "    ]),\n",
    "    'val':transforms.Compose([\n",
    "        transforms.ToTensor(),\n",
    "        transforms.Normalize([0.485, 0.465, 0.406],[0.229, 0.224, 0.225])\n",
    "    ])\n",
    "}"
   ]
  },
  {
   "cell_type": "code",
   "execution_count": 27,
   "metadata": {},
   "outputs": [],
   "source": [
    "# 1. READ THE DATA\n",
    "\n",
    "data_dir='../../dataset/'\n",
    "\n",
    "train_dataset=torchvision.datasets.ImageFolder(os.path.join(data_dir, 'train'), data_transforms['train'])"
   ]
  },
  {
   "cell_type": "code",
   "execution_count": 28,
   "metadata": {},
   "outputs": [],
   "source": [
    "val_dataset=torchvision.datasets.ImageFolder(os.path.join(data_dir, 'test'), data_transforms['val'])"
   ]
  },
  {
   "cell_type": "code",
   "execution_count": 29,
   "metadata": {},
   "outputs": [],
   "source": [
    "train_loader=torch.utils.data.DataLoader(train_dataset, batch_size=32, shuffle=True, num_workers=4)\n",
    "test_loader=torch.utils.data.DataLoader(val_dataset, batch_size=32, shuffle=True, num_workers=4)"
   ]
  },
  {
   "cell_type": "code",
   "execution_count": 30,
   "metadata": {},
   "outputs": [
    {
     "name": "stdout",
     "output_type": "stream",
     "text": [
      "torch.Size([32, 3, 40, 40])\n",
      "torch.Size([3, 40, 40])\n",
      "torch.Size([32])\n"
     ]
    }
   ],
   "source": [
    "for images, labels in train_loader:\n",
    "    print(images.size()) # loaded tensors\n",
    "    print(images[0].size()) # first batch\n",
    "    print(labels.size())\n",
    "    break"
   ]
  },
  {
   "cell_type": "code",
   "execution_count": 31,
   "metadata": {},
   "outputs": [],
   "source": [
    "num_classes = 10"
   ]
  },
  {
   "cell_type": "code",
   "execution_count": 32,
   "metadata": {},
   "outputs": [],
   "source": [
    "# 2. DEFINE THE NETWORK: by mimicking AlexNet\n",
    "\n",
    "class AlexNet(nn.Module):\n",
    "    def __init__(self, num_classes = 10):\n",
    "        super(AlexNet, self).__init__()\n",
    "        self.features = nn.Sequential(\n",
    "            nn.Conv2d(3, 64, kernel_size=11, stride=4, padding=5),\n",
    "            nn.ReLU(inplace=True),\n",
    "            nn.MaxPool2d(kernel_size=2, stride=2),\n",
    "            nn.Conv2d(64, 192, kernel_size=5, padding=2),\n",
    "            nn.ReLU(inplace=True),\n",
    "            nn.MaxPool2d(kernel_size=2, stride=2),\n",
    "            nn.Conv2d(192, 384, kernel_size=3, padding=1),\n",
    "            nn.ReLU(inplace=True),\n",
    "            nn.Conv2d(384, 256, kernel_size=3, padding=1),\n",
    "            nn.ReLU(inplace=True),\n",
    "            nn.Conv2d(256, 256, kernel_size=3, padding=1),\n",
    "            nn.ReLU(inplace=True),\n",
    "            nn.MaxPool2d(kernel_size=2, stride=2),\n",
    "        )\n",
    "        self.classifier = nn.Linear(256, num_classes)\n",
    "        \n",
    "    def forward(self, x):\n",
    "        x = self.features(x)\n",
    "        x = x.view(x.size(0), -1)\n",
    "        x = self.classifier(x)\n",
    "        return x"
   ]
  },
  {
   "cell_type": "code",
   "execution_count": 33,
   "metadata": {},
   "outputs": [],
   "source": [
    "device = 'cuda' if torch.cuda.is_available() else 'cpu'\n",
    "net = AlexNet().to(device)"
   ]
  },
  {
   "cell_type": "code",
   "execution_count": 34,
   "metadata": {},
   "outputs": [],
   "source": [
    "# 3 & 4. DEFINE LOSS FUNCTION AND OPTIMIZATION\n",
    "\n",
    "criterion = nn.CrossEntropyLoss()\n",
    "optimizer = optim.SGD(net.parameters(), lr=0.01, momentum=0.9, weight_decay=5e-4)"
   ]
  },
  {
   "cell_type": "code",
   "execution_count": 35,
   "metadata": {},
   "outputs": [
    {
     "name": "stdout",
     "output_type": "stream",
     "text": [
      "Epoch [1/50], Loss: 0.0722, val_loss: 0.0719, val_acc: 0.0983\n",
      "Epoch [2/50], Loss: 0.0721, val_loss: 0.0715, val_acc: 0.1534\n",
      "Epoch [3/50], Loss: 0.0659, val_loss: 0.0566, val_acc: 0.3263\n",
      "Epoch [4/50], Loss: 0.0421, val_loss: 0.0365, val_acc: 0.5659\n",
      "Epoch [5/50], Loss: 0.0311, val_loss: 0.0307, val_acc: 0.6734\n",
      "Epoch [6/50], Loss: 0.0259, val_loss: 0.0263, val_acc: 0.7170\n",
      "Epoch [7/50], Loss: 0.0229, val_loss: 0.0243, val_acc: 0.7286\n",
      "Epoch [8/50], Loss: 0.0194, val_loss: 0.0234, val_acc: 0.7638\n",
      "Epoch [9/50], Loss: 0.0169, val_loss: 0.0350, val_acc: 0.7199\n",
      "Epoch [10/50], Loss: 0.0157, val_loss: 0.0187, val_acc: 0.8226\n",
      "Epoch [11/50], Loss: 0.0140, val_loss: 0.0227, val_acc: 0.8056\n",
      "Epoch [12/50], Loss: 0.0131, val_loss: 0.0179, val_acc: 0.8240\n",
      "Epoch [13/50], Loss: 0.0120, val_loss: 0.0260, val_acc: 0.7964\n",
      "Epoch [14/50], Loss: 0.0108, val_loss: 0.0160, val_acc: 0.8686\n",
      "Epoch [15/50], Loss: 0.0103, val_loss: 0.0208, val_acc: 0.8271\n",
      "Epoch [16/50], Loss: 0.0085, val_loss: 0.0249, val_acc: 0.8374\n",
      "Epoch [17/50], Loss: 0.0091, val_loss: 0.0159, val_acc: 0.8623\n",
      "Epoch [18/50], Loss: 0.0074, val_loss: 0.0206, val_acc: 0.8676\n",
      "Epoch [19/50], Loss: 0.0080, val_loss: 0.0214, val_acc: 0.8437\n",
      "Epoch [20/50], Loss: 0.0071, val_loss: 0.0168, val_acc: 0.8671\n",
      "Epoch [21/50], Loss: 0.0067, val_loss: 0.0204, val_acc: 0.8621\n",
      "Epoch [22/50], Loss: 0.0066, val_loss: 0.0282, val_acc: 0.8198\n",
      "Epoch [23/50], Loss: 0.0066, val_loss: 0.0219, val_acc: 0.8516\n",
      "Epoch [24/50], Loss: 0.0066, val_loss: 0.0223, val_acc: 0.8555\n",
      "Epoch [25/50], Loss: 0.0059, val_loss: 0.0189, val_acc: 0.8736\n",
      "Epoch [26/50], Loss: 0.0051, val_loss: 0.0234, val_acc: 0.8615\n",
      "Epoch [27/50], Loss: 0.0050, val_loss: 0.0166, val_acc: 0.8852\n",
      "Epoch [28/50], Loss: 0.0050, val_loss: 0.0200, val_acc: 0.8610\n",
      "Epoch [29/50], Loss: 0.0040, val_loss: 0.0274, val_acc: 0.8558\n",
      "Epoch [30/50], Loss: 0.0042, val_loss: 0.0224, val_acc: 0.8594\n",
      "Epoch [31/50], Loss: 0.0047, val_loss: 0.0251, val_acc: 0.8516\n",
      "Epoch [32/50], Loss: 0.0036, val_loss: 0.0219, val_acc: 0.8815\n",
      "Epoch [33/50], Loss: 0.0039, val_loss: 0.0219, val_acc: 0.8755\n",
      "Epoch [34/50], Loss: 0.0041, val_loss: 0.0223, val_acc: 0.8731\n",
      "Epoch [35/50], Loss: 0.0044, val_loss: 0.0237, val_acc: 0.8692\n",
      "Epoch [36/50], Loss: 0.0040, val_loss: 0.0216, val_acc: 0.8815\n",
      "Epoch [37/50], Loss: 0.0025, val_loss: 0.0290, val_acc: 0.8844\n",
      "Epoch [38/50], Loss: 0.0031, val_loss: 0.0294, val_acc: 0.8686\n",
      "Epoch [39/50], Loss: 0.0028, val_loss: 0.0212, val_acc: 0.8847\n",
      "Epoch [40/50], Loss: 0.0033, val_loss: 0.0252, val_acc: 0.8849\n",
      "Epoch [41/50], Loss: 0.0026, val_loss: 0.0197, val_acc: 0.9028\n",
      "Epoch [42/50], Loss: 0.0034, val_loss: 0.0188, val_acc: 0.9015\n",
      "Epoch [43/50], Loss: 0.0026, val_loss: 0.0228, val_acc: 0.8836\n",
      "Epoch [44/50], Loss: 0.0025, val_loss: 0.0249, val_acc: 0.8904\n",
      "Epoch [45/50], Loss: 0.0028, val_loss: 0.0263, val_acc: 0.8894\n",
      "Epoch [46/50], Loss: 0.0023, val_loss: 0.0263, val_acc: 0.8949\n",
      "Epoch [47/50], Loss: 0.0029, val_loss: 0.0285, val_acc: 0.8878\n",
      "Epoch [48/50], Loss: 0.0032, val_loss: 0.0242, val_acc: 0.8923\n",
      "Epoch [49/50], Loss: 0.0027, val_loss: 0.0204, val_acc: 0.8933\n",
      "Epoch [50/50], Loss: 0.0021, val_loss: 0.0257, val_acc: 0.8847\n"
     ]
    }
   ],
   "source": [
    "# 5. TRAIN THE NETWORK\n",
    "\n",
    "num_epochs = 50\n",
    "\n",
    "train_loss_list = [] # make an empty list for later use\n",
    "train_acc_list = []\n",
    "val_loss_list = []\n",
    "val_acc_list = []\n",
    "\n",
    "for epoch in range(num_epochs):\n",
    "    train_loss = 0 # set initial values for all the epoch\n",
    "    train_acc = 0\n",
    "    val_loss = 0\n",
    "    val_acc = 0\n",
    "    \n",
    "    ##### train #####\n",
    "    net.train()  # transform into training mode \n",
    "    # read by mini batch\n",
    "    for i, (images, labels) in enumerate(train_loader):\n",
    "#         images, labels = images.view(-1, 32*32*3).to(device), labels.to(device) # transform into 1D and transfer to GPU\n",
    "        images, labels = images.to(device), labels.to(device) # not to bother to transform into 1D (it already is 1D by AlexNet)\n",
    "        optimizer.zero_grad() # initialize the gradient\n",
    "        outputs = net(images) # feedforward calculation\n",
    "        loss = criterion(outputs, labels)\n",
    "        train_loss +=loss.item()\n",
    "        train_acc += (outputs.max(1)[1]==labels).sum().item()\n",
    "        loss.backward() # backpropagation calculation\n",
    "        optimizer.step() \n",
    "\n",
    "    avg_train_loss = train_loss / len(train_loader.dataset)\n",
    "    avg_train_acc = train_acc / len(train_loader.dataset)\n",
    "    \n",
    "    ##### evaluation #####\n",
    "    net.eval() # switch to evaluation mode\n",
    "    with torch.no_grad(): # gradient calculation is not required for the evaluation\n",
    "        for images, labels in test_loader:\n",
    "            images = images.to(device)\n",
    "            labels = labels.to(device) # not to bother to transform into 1D (it already is 1D by AlexNet)\n",
    "            outputs = net(images)\n",
    "            loss = criterion(outputs, labels)\n",
    "            val_loss += loss.item()\n",
    "            val_acc += (outputs.max(1)[1] == labels).sum().item()\n",
    "        avg_val_loss = val_loss / len(test_loader.dataset)\n",
    "        avg_val_acc = val_acc / len(test_loader.dataset)\n",
    "            \n",
    "        print(\"Epoch [{}/{}], Loss: {loss:.4f}, val_loss: {val_loss:.4f}, val_acc: {val_acc:.4f}\".format\n",
    "                  (epoch+1, num_epochs, i+1, loss = avg_train_loss, val_loss=avg_val_loss, val_acc=avg_val_acc))\n",
    "            \n",
    "        train_loss_list.append(avg_train_loss)\n",
    "        train_acc_list.append(avg_train_acc)\n",
    "        val_loss_list.append(avg_val_loss)\n",
    "        val_acc_list.append(avg_val_acc)\n",
    "\n"
   ]
  },
  {
   "cell_type": "code",
   "execution_count": 36,
   "metadata": {},
   "outputs": [
    {
     "data": {
      "image/png": "[encoded data removed]",
      "text/plain": [
       "<Figure size 432x288 with 1 Axes>"
      ]
     },
     "metadata": {
      "needs_background": "light"
     },
     "output_type": "display_data"
    },
    {
     "data": {
      "image/png": "[encoded data removed]",
      "text/plain": [
       "<Figure size 432x288 with 1 Axes>"
      ]
     },
     "metadata": {
      "needs_background": "light"
     },
     "output_type": "display_data"
    }
   ],
   "source": [
    "import matplotlib.pyplot as plt\n",
    "%matplotlib inline\n",
    "\n",
    "plt.figure()\n",
    "plt.plot(range(num_epochs), train_loss_list, color = 'blue', linestyle = '-', label = 'train_loss')\n",
    "plt.plot(range(num_epochs), val_loss_list, color = 'green', linestyle = '--', label = 'val_loss')\n",
    "plt.legend()\n",
    "plt.xlabel('epoch')\n",
    "plt.ylabel('loss')\n",
    "plt.title('Training and validation loss')\n",
    "plt.grid()\n",
    "\n",
    "plt.figure()\n",
    "plt.plot(range(num_epochs), train_acc_list, color = 'blue', linestyle = '-', label = 'train_acc')\n",
    "plt.plot(range(num_epochs), val_acc_list, color = 'green', linestyle = '--', label = 'val_acc')\n",
    "plt.legend()\n",
    "plt.xlabel('epoch')\n",
    "plt.ylabel('loss')\n",
    "plt.title('Training and validation accuracy')\n",
    "plt.grid()\n",
    "\n"
   ]
  },
  {
   "cell_type": "code",
   "execution_count": null,
   "metadata": {},
   "outputs": [],
   "source": []
  }
 ],
 "metadata": {
  "kernelspec": {
   "display_name": "Python 3",
   "language": "python",
   "name": "python3"
  },
  "language_info": {
   "codemirror_mode": {
    "name": "ipython",
    "version": 3
   },
   "file_extension": ".py",
   "mimetype": "text/x-python",
   "name": "python",
   "nbconvert_exporter": "python",
   "pygments_lexer": "ipython3",
   "version": "3.6.9"
  }
 },
 "nbformat": 4,
 "nbformat_minor": 4
}
