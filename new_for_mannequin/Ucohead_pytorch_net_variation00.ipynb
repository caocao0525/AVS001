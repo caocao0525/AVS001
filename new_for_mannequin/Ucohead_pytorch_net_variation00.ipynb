{
 "cells": [
  {
   "cell_type": "code",
   "execution_count": 157,
   "metadata": {},
   "outputs": [],
   "source": [
    "import torch\n",
    "import torchvision\n",
    "import torch.nn as nn\n",
    "import torch.optim as optim\n",
    "import torch.nn.functional as F\n",
    "import torchvision.transforms as transforms\n",
    "%matplotlib inline\n",
    "import numpy as np\n",
    "import os\n",
    "from matplotlib import pyplot as plt"
   ]
  },
  {
   "cell_type": "code",
   "execution_count": 158,
   "metadata": {},
   "outputs": [],
   "source": [
    "data_transforms = {\n",
    "    'train':transforms.Compose([\n",
    "        transforms.ToTensor(),\n",
    "        transforms.Normalize([0.5, 0.5, 0.5],[0.5, 0.5, 0.5]),\n",
    "    ]),\n",
    "    'val':transforms.Compose([\n",
    "        transforms.ToTensor(),\n",
    "        transforms.Normalize([0.485, 0.465, 0.406],[0.229, 0.224, 0.225])\n",
    "    ])\n",
    "}"
   ]
  },
  {
   "cell_type": "code",
   "execution_count": 159,
   "metadata": {},
   "outputs": [],
   "source": [
    "# 1. READ THE DATA\n",
    "\n",
    "data_dir='../../dataset/'\n",
    "\n",
    "train_dataset=torchvision.datasets.ImageFolder(os.path.join(data_dir, 'train'), data_transforms['train'])"
   ]
  },
  {
   "cell_type": "code",
   "execution_count": 160,
   "metadata": {},
   "outputs": [],
   "source": [
    "val_dataset=torchvision.datasets.ImageFolder(os.path.join(data_dir, 'test'), data_transforms['val'])"
   ]
  },
  {
   "cell_type": "code",
   "execution_count": 161,
   "metadata": {},
   "outputs": [],
   "source": [
    "train_loader=torch.utils.data.DataLoader(train_dataset, batch_size=32, shuffle=True, num_workers=4)\n",
    "test_loader=torch.utils.data.DataLoader(val_dataset, batch_size=32, shuffle=True, num_workers=4)"
   ]
  },
  {
   "cell_type": "code",
   "execution_count": 162,
   "metadata": {},
   "outputs": [
    {
     "name": "stdout",
     "output_type": "stream",
     "text": [
      "torch.Size([32, 3, 40, 40])\n",
      "torch.Size([3, 40, 40])\n",
      "torch.Size([32])\n"
     ]
    }
   ],
   "source": [
    "for images, labels in train_loader:\n",
    "    print(images.size()) # loaded tensors\n",
    "    print(images[0].size()) # first batch\n",
    "    print(labels.size())\n",
    "    break"
   ]
  },
  {
   "cell_type": "code",
   "execution_count": 163,
   "metadata": {},
   "outputs": [],
   "source": [
    "num_classes = 10"
   ]
  },
  {
   "cell_type": "code",
   "execution_count": 164,
   "metadata": {},
   "outputs": [],
   "source": [
    "# 2. DEFINE THE NETWORK: by mimicking AlexNet\n",
    "\n",
    "# class AlexNet(nn.Module):\n",
    "#     def __init__(self, num_classes = 10):\n",
    "#         super(AlexNet, self).__init__()\n",
    "#         self.features = nn.Sequential(\n",
    "#             nn.Conv2d(3, 64, kernel_size=11, stride=4, padding=5),\n",
    "#             nn.ReLU(inplace=True),\n",
    "#             nn.MaxPool2d(kernel_size=2, stride=2),\n",
    "#             nn.Conv2d(64, 192, kernel_size=5, padding=2),\n",
    "#             nn.ReLU(inplace=True),\n",
    "#             nn.MaxPool2d(kernel_size=2, stride=2),\n",
    "#             nn.Conv2d(192, 384, kernel_size=3, padding=1),\n",
    "#             nn.ReLU(inplace=True),\n",
    "#             nn.Conv2d(384, 256, kernel_size=3, padding=1),\n",
    "#             nn.ReLU(inplace=True),\n",
    "#             nn.Conv2d(256, 256, kernel_size=3, padding=1),\n",
    "#             nn.ReLU(inplace=True),\n",
    "#             nn.MaxPool2d(kernel_size=2, stride=2),\n",
    "#         )\n",
    "#         self.classifier = nn.Linear(256, num_classes)\n",
    "\n",
    "# The original net of our 2020 paper\n",
    "# layers.Conv2D(16, 3, padding = \"same\", activation =\"relu\"),\n",
    "#     layers.MaxPool2D(),\n",
    "#     layers.Conv2D(32, 3, padding = \"same\", activation =\"relu\"),\n",
    "#     layers.MaxPool2D(),\n",
    "#     layers.Conv2D(64, 3, padding = \"same\", activation =\"relu\"),\n",
    "#     layers.Dropout(0.2),\n",
    "#     layers.MaxPool2D(),\n",
    "#     layers.Dropout(0.2),\n",
    "#     layers.Flatten(),\n",
    "#     layers.Dense(128, activation = 'relu'),\n",
    "#     layers.Dense(num_classes)\n",
    "\n",
    "class AlexNet(nn.Module):\n",
    "    def __init__(self, num_classes = 10):\n",
    "        super(AlexNet, self).__init__()\n",
    "        self.features = nn.Sequential(\n",
    "            nn.Conv2d(3, 16, kernel_size=3),\n",
    "            nn.ReLU(inplace=True),\n",
    "            nn.MaxPool2d(kernel_size=3),\n",
    "            nn.Conv2d(16, 32, kernel_size=3),\n",
    "            nn.ReLU(inplace=True),\n",
    "            nn.MaxPool2d(kernel_size=3),\n",
    "            nn.Conv2d(32, 64, kernel_size=3),\n",
    "            nn.ReLU(inplace=True),\n",
    "            nn.Dropout(p=0.2),\n",
    "            nn.Flatten(),\n",
    "            nn.Linear(64,512),\n",
    "            nn.ReLU(inplace=True),\n",
    "        )\n",
    "        self.classifier = nn.Linear(512, num_classes)   #tested 256, 128, 64, 32, 16 -?256 was better\n",
    "        \n",
    "    def forward(self, x):\n",
    "        x = self.features(x)\n",
    "        x = x.view(x.size(0), -1)\n",
    "        x = self.classifier(x)\n",
    "        return x"
   ]
  },
  {
   "cell_type": "code",
   "execution_count": 165,
   "metadata": {},
   "outputs": [],
   "source": [
    "device = 'cuda' if torch.cuda.is_available() else 'cpu'\n",
    "net = AlexNet().to(device)"
   ]
  },
  {
   "cell_type": "code",
   "execution_count": 166,
   "metadata": {},
   "outputs": [],
   "source": [
    "# 3 & 4. DEFINE LOSS FUNCTION AND OPTIMIZATION\n",
    "\n",
    "criterion = nn.CrossEntropyLoss()\n",
    "optimizer = optim.SGD(net.parameters(), lr=0.01, momentum=0.9, weight_decay=5e-4)\n",
    "\n",
    "# optimizer = optim.Adam(net.parameters(), lr=0.001)"
   ]
  },
  {
   "cell_type": "code",
   "execution_count": 167,
   "metadata": {
    "scrolled": true
   },
   "outputs": [
    {
     "name": "stdout",
     "output_type": "stream",
     "text": [
      "Epoch [1/50], Loss: 0.0721, val_loss: 0.0713, val_acc: 0.1569\n",
      "Epoch [2/50], Loss: 0.0643, val_loss: 0.0528, val_acc: 0.3807\n",
      "Epoch [3/50], Loss: 0.0457, val_loss: 0.0417, val_acc: 0.4963\n",
      "Epoch [4/50], Loss: 0.0387, val_loss: 0.0352, val_acc: 0.5678\n",
      "Epoch [5/50], Loss: 0.0344, val_loss: 0.0332, val_acc: 0.6085\n",
      "Epoch [6/50], Loss: 0.0307, val_loss: 0.0267, val_acc: 0.6818\n",
      "Epoch [7/50], Loss: 0.0274, val_loss: 0.0268, val_acc: 0.6860\n",
      "Epoch [8/50], Loss: 0.0258, val_loss: 0.0261, val_acc: 0.7060\n",
      "Epoch [9/50], Loss: 0.0238, val_loss: 0.0247, val_acc: 0.7128\n",
      "Epoch [10/50], Loss: 0.0225, val_loss: 0.0217, val_acc: 0.7375\n",
      "Epoch [11/50], Loss: 0.0208, val_loss: 0.0242, val_acc: 0.7267\n",
      "Epoch [12/50], Loss: 0.0200, val_loss: 0.0216, val_acc: 0.7591\n",
      "Epoch [13/50], Loss: 0.0194, val_loss: 0.0212, val_acc: 0.7853\n",
      "Epoch [14/50], Loss: 0.0186, val_loss: 0.0178, val_acc: 0.7927\n",
      "Epoch [15/50], Loss: 0.0174, val_loss: 0.0204, val_acc: 0.7906\n",
      "Epoch [16/50], Loss: 0.0166, val_loss: 0.0230, val_acc: 0.7504\n",
      "Epoch [17/50], Loss: 0.0159, val_loss: 0.0205, val_acc: 0.7935\n",
      "Epoch [18/50], Loss: 0.0156, val_loss: 0.0186, val_acc: 0.8085\n",
      "Epoch [19/50], Loss: 0.0151, val_loss: 0.0197, val_acc: 0.8064\n",
      "Epoch [20/50], Loss: 0.0146, val_loss: 0.0210, val_acc: 0.7830\n",
      "Epoch [21/50], Loss: 0.0139, val_loss: 0.0229, val_acc: 0.7958\n",
      "Epoch [22/50], Loss: 0.0132, val_loss: 0.0204, val_acc: 0.8098\n",
      "Epoch [23/50], Loss: 0.0135, val_loss: 0.0167, val_acc: 0.8219\n",
      "Epoch [24/50], Loss: 0.0128, val_loss: 0.0196, val_acc: 0.8187\n",
      "Epoch [25/50], Loss: 0.0122, val_loss: 0.0196, val_acc: 0.8108\n",
      "Epoch [26/50], Loss: 0.0120, val_loss: 0.0173, val_acc: 0.8374\n",
      "Epoch [27/50], Loss: 0.0118, val_loss: 0.0204, val_acc: 0.8158\n",
      "Epoch [28/50], Loss: 0.0113, val_loss: 0.0177, val_acc: 0.8434\n",
      "Epoch [29/50], Loss: 0.0112, val_loss: 0.0190, val_acc: 0.8179\n",
      "Epoch [30/50], Loss: 0.0107, val_loss: 0.0184, val_acc: 0.8479\n",
      "Epoch [31/50], Loss: 0.0109, val_loss: 0.0236, val_acc: 0.8169\n",
      "Epoch [32/50], Loss: 0.0106, val_loss: 0.0230, val_acc: 0.8166\n",
      "Epoch [33/50], Loss: 0.0108, val_loss: 0.0179, val_acc: 0.8476\n",
      "Epoch [34/50], Loss: 0.0102, val_loss: 0.0192, val_acc: 0.8332\n",
      "Epoch [35/50], Loss: 0.0101, val_loss: 0.0221, val_acc: 0.8339\n",
      "Epoch [36/50], Loss: 0.0097, val_loss: 0.0184, val_acc: 0.8471\n",
      "Epoch [37/50], Loss: 0.0096, val_loss: 0.0205, val_acc: 0.8203\n",
      "Epoch [38/50], Loss: 0.0094, val_loss: 0.0195, val_acc: 0.8529\n",
      "Epoch [39/50], Loss: 0.0093, val_loss: 0.0199, val_acc: 0.8418\n",
      "Epoch [40/50], Loss: 0.0084, val_loss: 0.0233, val_acc: 0.8379\n",
      "Epoch [41/50], Loss: 0.0090, val_loss: 0.0198, val_acc: 0.8476\n",
      "Epoch [42/50], Loss: 0.0086, val_loss: 0.0210, val_acc: 0.8418\n",
      "Epoch [43/50], Loss: 0.0082, val_loss: 0.0210, val_acc: 0.8521\n",
      "Epoch [44/50], Loss: 0.0081, val_loss: 0.0259, val_acc: 0.8200\n",
      "Epoch [45/50], Loss: 0.0088, val_loss: 0.0220, val_acc: 0.8395\n",
      "Epoch [46/50], Loss: 0.0079, val_loss: 0.0283, val_acc: 0.8135\n",
      "Epoch [47/50], Loss: 0.0086, val_loss: 0.0213, val_acc: 0.8468\n",
      "Epoch [48/50], Loss: 0.0078, val_loss: 0.0223, val_acc: 0.8471\n",
      "Epoch [49/50], Loss: 0.0081, val_loss: 0.0281, val_acc: 0.8195\n",
      "Epoch [50/50], Loss: 0.0077, val_loss: 0.0237, val_acc: 0.8437\n"
     ]
    }
   ],
   "source": [
    "# 5. TRAIN THE NETWORK\n",
    "\n",
    "num_epochs = 50\n",
    "\n",
    "train_loss_list = [] # make an empty list for later use\n",
    "train_acc_list = []\n",
    "val_loss_list = []\n",
    "val_acc_list = []\n",
    "\n",
    "for epoch in range(num_epochs):\n",
    "    train_loss = 0 # set initial values for all the epoch\n",
    "    train_acc = 0\n",
    "    val_loss = 0\n",
    "    val_acc = 0\n",
    "    \n",
    "    ##### train #####\n",
    "    net.train()  # transform into training mode \n",
    "    # read by mini batch\n",
    "    for i, (images, labels) in enumerate(train_loader):\n",
    "#         images, labels = images.view(-1, 32*32*3).to(device), labels.to(device) # transform into 1D and transfer to GPU\n",
    "        images, labels = images.to(device), labels.to(device) # not to bother to transform into 1D (it already is 1D by AlexNet)\n",
    "        optimizer.zero_grad() # initialize the gradient\n",
    "        outputs = net(images) # feedforward calculation\n",
    "        loss = criterion(outputs, labels)\n",
    "        train_loss +=loss.item()\n",
    "        train_acc += (outputs.max(1)[1]==labels).sum().item()\n",
    "        loss.backward() # backpropagation calculation\n",
    "        optimizer.step() \n",
    "\n",
    "    avg_train_loss = train_loss / len(train_loader.dataset)\n",
    "    avg_train_acc = train_acc / len(train_loader.dataset)\n",
    "    \n",
    "    ##### evaluation #####\n",
    "    net.eval() # switch to evaluation mode\n",
    "    with torch.no_grad(): # gradient calculation is not required for the evaluation\n",
    "        for images, labels in test_loader:\n",
    "            images = images.to(device)\n",
    "            labels = labels.to(device) # not to bother to transform into 1D (it already is 1D by AlexNet)\n",
    "            outputs = net(images)\n",
    "            loss = criterion(outputs, labels)\n",
    "            val_loss += loss.item()\n",
    "            val_acc += (outputs.max(1)[1] == labels).sum().item()\n",
    "        avg_val_loss = val_loss / len(test_loader.dataset)\n",
    "        avg_val_acc = val_acc / len(test_loader.dataset)\n",
    "            \n",
    "        print(\"Epoch [{}/{}], Loss: {loss:.4f}, val_loss: {val_loss:.4f}, val_acc: {val_acc:.4f}\".format\n",
    "                  (epoch+1, num_epochs, i+1, loss = avg_train_loss, val_loss=avg_val_loss, val_acc=avg_val_acc))\n",
    "            \n",
    "        train_loss_list.append(avg_train_loss)\n",
    "        train_acc_list.append(avg_train_acc)\n",
    "        val_loss_list.append(avg_val_loss)\n",
    "        val_acc_list.append(avg_val_acc)\n",
    "\n"
   ]
  },
  {
   "cell_type": "code",
   "execution_count": 168,
   "metadata": {},
   "outputs": [
    {
     "data": {
      "image/png": "[encoded data removed]",
      "text/plain": [
       "<Figure size 432x288 with 1 Axes>"
      ]
     },
     "metadata": {
      "needs_background": "light"
     },
     "output_type": "display_data"
    },
    {
     "data": {
      "image/png": "[encoded data removed]",
      "text/plain": [
       "<Figure size 432x288 with 1 Axes>"
      ]
     },
     "metadata": {
      "needs_background": "light"
     },
     "output_type": "display_data"
    }
   ],
   "source": [
    "import matplotlib.pyplot as plt\n",
    "%matplotlib inline\n",
    "\n",
    "plt.figure()\n",
    "plt.plot(range(num_epochs), train_loss_list, color = 'blue', linestyle = '-', label = 'train_loss')\n",
    "plt.plot(range(num_epochs), val_loss_list, color = 'green', linestyle = '--', label = 'val_loss')\n",
    "plt.legend()\n",
    "plt.xlabel('epoch')\n",
    "plt.ylabel('loss')\n",
    "plt.title('Training and validation loss')\n",
    "plt.grid()\n",
    "\n",
    "plt.figure()\n",
    "plt.plot(range(num_epochs), train_acc_list, color = 'blue', linestyle = '-', label = 'train_acc')\n",
    "plt.plot(range(num_epochs), val_acc_list, color = 'green', linestyle = '--', label = 'val_acc')\n",
    "plt.legend()\n",
    "plt.xlabel('epoch')\n",
    "plt.ylabel('loss')\n",
    "plt.title('Training and validation accuracy')\n",
    "plt.grid()\n",
    "\n"
   ]
  },
  {
   "cell_type": "code",
   "execution_count": null,
   "metadata": {},
   "outputs": [],
   "source": []
  },
  {
   "cell_type": "code",
   "execution_count": null,
   "metadata": {},
   "outputs": [],
   "source": []
  },
  {
   "cell_type": "code",
   "execution_count": null,
   "metadata": {},
   "outputs": [],
   "source": []
  }
 ],
 "metadata": {
  "kernelspec": {
   "display_name": "Python 3",
   "language": "python",
   "name": "python3"
  },
  "language_info": {
   "codemirror_mode": {
    "name": "ipython",
    "version": 3
   },
   "file_extension": ".py",
   "mimetype": "text/x-python",
   "name": "python",
   "nbconvert_exporter": "python",
   "pygments_lexer": "ipython3",
   "version": "3.6.9"
  }
 },
 "nbformat": 4,
 "nbformat_minor": 4
}
