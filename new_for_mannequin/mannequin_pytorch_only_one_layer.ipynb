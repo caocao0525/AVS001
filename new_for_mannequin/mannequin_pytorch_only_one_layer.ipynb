{
 "cells": [
  {
   "cell_type": "code",
   "execution_count": 1,
   "id": "4e08f76f",
   "metadata": {},
   "outputs": [],
   "source": [
    "import torch\n",
    "import torchvision\n",
    "import torch.nn as nn\n",
    "import torch.optim as optim\n",
    "import torch.nn.functional as F\n",
    "import torchvision.transforms as transforms\n",
    "%matplotlib inline\n",
    "import numpy as np\n",
    "import os\n",
    "from matplotlib import pyplot as plt"
   ]
  },
  {
   "cell_type": "code",
   "execution_count": 2,
   "id": "2e54a0ee",
   "metadata": {},
   "outputs": [],
   "source": [
    "image_size = 48\n",
    "batch_size = 64\n",
    "\n",
    "data_transforms = {\n",
    "    'train':transforms.Compose([\n",
    "#         transforms.RandomResizedCrop(image_size),\n",
    "#         transforms.RandomCrop(image_size), \n",
    "        transforms.Resize(image_size),\n",
    "        transforms.ToTensor(),\n",
    "        transforms.Normalize([0.5, 0.5, 0.5],[0.5, 0.5, 0.5]),\n",
    "    ]),\n",
    "    'val':transforms.Compose([\n",
    "#         transforms.RandomResizedCrop(image_size),\n",
    "        transforms.Resize(image_size),\n",
    "#         transforms.RandomCrop(image_size),    \n",
    "        transforms.ToTensor(),\n",
    "        transforms.Normalize([0.485, 0.465, 0.406],[0.229, 0.224, 0.225])\n",
    "    ])\n",
    "}"
   ]
  },
  {
   "cell_type": "code",
   "execution_count": 3,
   "id": "d25ef623",
   "metadata": {},
   "outputs": [],
   "source": [
    "#1. READ THE DATA\n",
    "\n",
    "data_dir='../../mannequin_01/'\n",
    "\n",
    "train_dataset=torchvision.datasets.ImageFolder(os.path.join(data_dir, 'train'), data_transforms['train'])\n",
    "val_dataset=torchvision.datasets.ImageFolder(os.path.join(data_dir, 'val'), data_transforms['val'])"
   ]
  },
  {
   "cell_type": "code",
   "execution_count": 4,
   "id": "26c6ca39",
   "metadata": {},
   "outputs": [],
   "source": [
    "train_loader=torch.utils.data.DataLoader(train_dataset, batch_size=batch_size, shuffle=True, num_workers=2)\n",
    "test_loader=torch.utils.data.DataLoader(val_dataset, batch_size=batch_size, shuffle=True, num_workers=2)"
   ]
  },
  {
   "cell_type": "code",
   "execution_count": 5,
   "id": "2a3756c3",
   "metadata": {},
   "outputs": [
    {
     "name": "stdout",
     "output_type": "stream",
     "text": [
      "torch.Size([64, 3, 48, 64])\n",
      "torch.Size([3, 48, 64])\n",
      "torch.Size([64])\n"
     ]
    }
   ],
   "source": [
    "for images, labels in train_loader:\n",
    "    print(images.size()) # loaded tensors\n",
    "    print(images[0].size()) # first batch\n",
    "    print(labels.size())\n",
    "#     plt.imshow(np.transpose(images[0].cpu().detach().numpy(),(1,2,0)))\n",
    "    break\n"
   ]
  },
  {
   "cell_type": "code",
   "execution_count": 6,
   "id": "3d3ddabc",
   "metadata": {},
   "outputs": [],
   "source": [
    "num_classes = 8"
   ]
  },
  {
   "cell_type": "code",
   "execution_count": 7,
   "id": "db8ba848",
   "metadata": {},
   "outputs": [],
   "source": [
    "# features = nn.Sequential(\n",
    "#             nn.Conv2d(3,32,kernel_size=3, stride=4, padding=2),\n",
    "#             nn.ReLU(inplace=True),\n",
    "#             nn.MaxPool2d(kernel_size=2, stride=2),\n",
    "#             nn.Conv2d(32,64,kernel_size=3, padding=2),\n",
    "#             nn.ReLU(inplace=True),\n",
    "#             nn.MaxPool2d(kernel_size=2, stride=2),\n",
    "#             nn.Conv2d(64,128,kernel_size=3, padding=1),\n",
    "#             nn.ReLU(inplace=True),\n",
    "#             nn.MaxPool2d(kernel_size=2, stride=2),\n",
    "# )\n",
    "\n",
    "features = nn.Sequential(\n",
    "            nn.Conv2d(3,32,kernel_size=3, stride=4, padding=2),\n",
    "            nn.ReLU(inplace=True),\n",
    "            nn.MaxPool2d(kernel_size=2, stride=2),\n",
    ")"
   ]
  },
  {
   "cell_type": "code",
   "execution_count": 8,
   "id": "ae42fe65",
   "metadata": {},
   "outputs": [
    {
     "name": "stdout",
     "output_type": "stream",
     "text": [
      "1536\n"
     ]
    }
   ],
   "source": [
    "fc_size=features(images).view(images.size(0),-1).size()[1]\n",
    "print(fc_size)"
   ]
  },
  {
   "cell_type": "code",
   "execution_count": 9,
   "id": "2af0cc93",
   "metadata": {},
   "outputs": [],
   "source": [
    "class AlexNet(nn.Module):\n",
    "    def __init__(self, num_classes, fc_size):\n",
    "        super(AlexNet, self).__init__()\n",
    "        self.features = nn.Sequential(\n",
    "            nn.Conv2d(3,32,kernel_size=3, stride=4, padding=2),\n",
    "            nn.ReLU(inplace=True),\n",
    "            nn.MaxPool2d(kernel_size=2, stride=2),\n",
    "         )\n",
    "        self.classifier = nn.Sequential(\n",
    "            nn.Dropout(p=0.2),\n",
    "            nn.Linear(fc_size, 512),\n",
    "            nn.ReLU(inplace=True),\n",
    "            nn.Dropout(p=0.2),\n",
    "            nn.Linear(512, 128),\n",
    "            nn.ReLU(inplace=True),\n",
    "            nn.Linear(128, num_classes)\n",
    "        )\n",
    "        \n",
    "    def forward(self, x):\n",
    "        x = self.features(x)\n",
    "        x = x.view(x.size(0), -1)\n",
    "        x = self.classifier(x)\n",
    "        return x"
   ]
  },
  {
   "cell_type": "code",
   "execution_count": 10,
   "id": "b1ae25ff",
   "metadata": {},
   "outputs": [
    {
     "data": {
      "text/plain": [
       "'cuda'"
      ]
     },
     "execution_count": 10,
     "metadata": {},
     "output_type": "execute_result"
    }
   ],
   "source": [
    "device = 'cuda' if torch.cuda.is_available() else 'cpu'\n",
    "net = AlexNet(num_classes, fc_size).to(device)\n",
    "device"
   ]
  },
  {
   "cell_type": "code",
   "execution_count": 11,
   "id": "d3ed4973",
   "metadata": {},
   "outputs": [],
   "source": [
    "# 3 & 4. DEFINE LOSS FUNCTION AND OPTIMIZATION\n",
    "\n",
    "criterion = nn.CrossEntropyLoss()\n",
    "optimizer = optim.SGD(net.parameters(), lr=0.01, momentum=0.9, weight_decay=5e-4)"
   ]
  },
  {
   "cell_type": "code",
   "execution_count": 12,
   "id": "af1e736d",
   "metadata": {
    "scrolled": true
   },
   "outputs": [
    {
     "data": {
      "text/plain": [
       "AlexNet(\n",
       "  (features): Sequential(\n",
       "    (0): Conv2d(3, 32, kernel_size=(3, 3), stride=(4, 4), padding=(2, 2))\n",
       "    (1): ReLU(inplace=True)\n",
       "    (2): MaxPool2d(kernel_size=2, stride=2, padding=0, dilation=1, ceil_mode=False)\n",
       "  )\n",
       "  (classifier): Sequential(\n",
       "    (0): Dropout(p=0.2, inplace=False)\n",
       "    (1): Linear(in_features=1536, out_features=512, bias=True)\n",
       "    (2): ReLU(inplace=True)\n",
       "    (3): Dropout(p=0.2, inplace=False)\n",
       "    (4): Linear(in_features=512, out_features=128, bias=True)\n",
       "    (5): ReLU(inplace=True)\n",
       "    (6): Linear(in_features=128, out_features=8, bias=True)\n",
       "  )\n",
       ")"
      ]
     },
     "execution_count": 12,
     "metadata": {},
     "output_type": "execute_result"
    }
   ],
   "source": [
    "net"
   ]
  },
  {
   "cell_type": "code",
   "execution_count": 13,
   "id": "bb7e13f6",
   "metadata": {
    "scrolled": true
   },
   "outputs": [
    {
     "name": "stdout",
     "output_type": "stream",
     "text": [
      "Epoch [1/20], Loss: 0.0119, val_loss: 0.0447, val_acc: 0.4919\n",
      "Epoch [2/20], Loss: 0.0005, val_loss: 0.1656, val_acc: 0.3074\n",
      "Epoch [3/20], Loss: 0.0002, val_loss: 0.2181, val_acc: 0.2974\n",
      "Epoch [4/20], Loss: 0.0001, val_loss: 0.2442, val_acc: 0.2892\n",
      "Epoch [5/20], Loss: 0.0001, val_loss: 0.2139, val_acc: 0.2961\n",
      "Epoch [6/20], Loss: 0.0001, val_loss: 0.2650, val_acc: 0.2915\n",
      "Epoch [7/20], Loss: 0.0001, val_loss: 0.2206, val_acc: 0.3007\n",
      "Epoch [8/20], Loss: 0.0000, val_loss: 0.2412, val_acc: 0.2976\n",
      "Epoch [9/20], Loss: 0.0000, val_loss: 0.2491, val_acc: 0.2981\n",
      "Epoch [10/20], Loss: 0.0000, val_loss: 0.2116, val_acc: 0.3201\n",
      "Epoch [11/20], Loss: 0.0000, val_loss: 0.2812, val_acc: 0.2844\n",
      "Epoch [12/20], Loss: 0.0000, val_loss: 0.2979, val_acc: 0.2761\n",
      "Epoch [13/20], Loss: 0.0000, val_loss: 0.3083, val_acc: 0.2615\n",
      "Epoch [14/20], Loss: 0.0000, val_loss: 0.2859, val_acc: 0.2747\n",
      "Epoch [15/20], Loss: 0.0000, val_loss: 0.2670, val_acc: 0.2843\n",
      "Epoch [16/20], Loss: 0.0000, val_loss: 0.2795, val_acc: 0.2783\n",
      "Epoch [17/20], Loss: 0.0000, val_loss: 0.3019, val_acc: 0.2604\n",
      "Epoch [18/20], Loss: 0.0000, val_loss: 0.3015, val_acc: 0.2531\n",
      "Epoch [19/20], Loss: 0.0000, val_loss: 0.2959, val_acc: 0.2546\n",
      "Epoch [20/20], Loss: 0.0000, val_loss: 0.2685, val_acc: 0.2801\n"
     ]
    }
   ],
   "source": [
    "# 5. TRAIN THE NETWORK\n",
    "\n",
    "num_epochs = 20\n",
    "\n",
    "train_loss_list = [] # make an empty list for later use\n",
    "train_acc_list = []\n",
    "val_loss_list = []\n",
    "val_acc_list = []\n",
    "\n",
    "for epoch in range(num_epochs):\n",
    "    train_loss = 0 # set initial values for all the epoch\n",
    "    train_acc = 0\n",
    "    val_loss = 0\n",
    "    val_acc = 0\n",
    "    \n",
    "    ##### train #####\n",
    "    net.train()  # transform into training mode \n",
    "    # read by mini batch\n",
    "    for i, (images, labels) in enumerate(train_loader):\n",
    "#         images, labels = images.view(-1, 32*32*3).to(device), labels.to(device) # transform into 1D and transfer to GPU\n",
    "        images, labels = images.to(device), labels.to(device) # not to bother to transform into 1D (it already is 1D by AlexNet)\n",
    "        optimizer.zero_grad() # initialize the gradient\n",
    "        outputs = net(images) # feedforward calculation\n",
    "        loss = criterion(outputs, labels)\n",
    "        train_loss +=loss.item()\n",
    "        train_acc += (outputs.max(1)[1]==labels).sum().item()\n",
    "        loss.backward() # backpropagation calculation\n",
    "        optimizer.step() \n",
    "\n",
    "    avg_train_loss = train_loss / len(train_loader.dataset)\n",
    "    avg_train_acc = train_acc / len(train_loader.dataset)\n",
    "    \n",
    "    ##### evaluation #####\n",
    "    net.eval() # switch to evaluation mode\n",
    "    with torch.no_grad(): # gradient calculation is not required for the evaluation\n",
    "        for images, labels in test_loader:\n",
    "            images = images.to(device)\n",
    "            labels = labels.to(device) # not to bother to transform into 1D (it already is 1D by AlexNet)\n",
    "            outputs = net(images)\n",
    "            loss = criterion(outputs, labels)\n",
    "            val_loss += loss.item()\n",
    "            val_acc += (outputs.max(1)[1] == labels).sum().item()\n",
    "        avg_val_loss = val_loss / len(test_loader.dataset)\n",
    "        avg_val_acc = val_acc / len(test_loader.dataset)\n",
    "            \n",
    "        print(\"Epoch [{}/{}], Loss: {loss:.4f}, val_loss: {val_loss:.4f}, val_acc: {val_acc:.4f}\".format\n",
    "                  (epoch+1, num_epochs, i+1, loss = avg_train_loss, val_loss=avg_val_loss, val_acc=avg_val_acc))\n",
    "            \n",
    "        train_loss_list.append(avg_train_loss)\n",
    "        train_acc_list.append(avg_train_acc)\n",
    "        val_loss_list.append(avg_val_loss)\n",
    "        val_acc_list.append(avg_val_acc)\n",
    "\n"
   ]
  },
  {
   "cell_type": "code",
   "execution_count": 15,
   "id": "a2efcb20",
   "metadata": {},
   "outputs": [
    {
     "data": {
      "text/plain": [
       "Text(0.5, 1.0, 'Training and validation accuracy')"
      ]
     },
     "execution_count": 15,
     "metadata": {},
     "output_type": "execute_result"
    },
    {
     "data": {
      "image/png": "[encoded data removed]",
      "text/plain": [
       "<Figure size 432x288 with 1 Axes>"
      ]
     },
     "metadata": {
      "needs_background": "light"
     },
     "output_type": "display_data"
    },
    {
     "data": {
      "image/png": "[encoded data removed]",
      "text/plain": [
       "<Figure size 432x288 with 1 Axes>"
      ]
     },
     "metadata": {
      "needs_background": "light"
     },
     "output_type": "display_data"
    }
   ],
   "source": [
    "import matplotlib.pyplot as plt\n",
    "%matplotlib inline\n",
    "\n",
    "plt.figure()\n",
    "plt.plot(range(num_epochs), train_loss_list, color = 'blue', linestyle = '-', label = 'train_loss')\n",
    "plt.plot(range(num_epochs), val_loss_list, color = 'green', linestyle = '--', label = 'val_loss')\n",
    "plt.legend()\n",
    "plt.xlabel('epoch')\n",
    "plt.ylabel('loss')\n",
    "plt.title('Training and validation loss')\n",
    "plt.ylim([-0.005 ,0.5])\n",
    "# plt.grid()\n",
    "\n",
    "plt.figure()\n",
    "plt.plot(range(num_epochs), train_acc_list, color = 'blue', linestyle = '-', label = 'train_acc')\n",
    "plt.plot(range(num_epochs), val_acc_list, color = 'green', linestyle = '--', label = 'val_acc')\n",
    "plt.legend()\n",
    "plt.xlabel('epoch')\n",
    "plt.ylabel('accuracy')\n",
    "plt.ylim([0.1 ,1.05])\n",
    "plt.title('Training and validation accuracy')\n",
    "# plt.grid()"
   ]
  },
  {
   "cell_type": "code",
   "execution_count": null,
   "id": "d18dae4c",
   "metadata": {},
   "outputs": [],
   "source": []
  },
  {
   "cell_type": "code",
   "execution_count": null,
   "id": "1e49e259",
   "metadata": {},
   "outputs": [],
   "source": []
  }
 ],
 "metadata": {
  "kernelspec": {
   "display_name": "Python 3",
   "language": "python",
   "name": "python3"
  },
  "language_info": {
   "codemirror_mode": {
    "name": "ipython",
    "version": 3
   },
   "file_extension": ".py",
   "mimetype": "text/x-python",
   "name": "python",
   "nbconvert_exporter": "python",
   "pygments_lexer": "ipython3",
   "version": "3.6.9"
  }
 },
 "nbformat": 4,
 "nbformat_minor": 5
}
